{
 "cells": [
  {
   "cell_type": "code",
   "execution_count": 5,
   "metadata": {},
   "outputs": [],
   "source": [
    "import heapq\n",
    "from random import randint\n",
    "import matplotlib.pyplot as plt\n",
    "import numpy as np\n",
    "\n",
    "class Server:\n",
    "    def __init__(self, speed):\n",
    "        self.speed = speed\n",
    "        self.tasks = []\n",
    "        self.finish_time = 0\n",
    "\n",
    "    def schedule_task(self, task, start_time=0):\n",
    "        task_time = task / self.speed\n",
    "        if start_time > self.finish_time:\n",
    "            start_time = start_time  # Wait until start time to begin task\n",
    "        else:\n",
    "            start_time = self.finish_time  # Start after finishing last task\n",
    "        end_time = start_time + task_time\n",
    "        self.finish_time = end_time\n",
    "        self.tasks.append((task, start_time, end_time))\n",
    "\n",
    "    def __lt__(self, other):\n",
    "        return self.finish_time < other.finish_time\n",
    "\n",
    "class Job:\n",
    "    def __init__(self, reduce_tasks):\n",
    "        self.reduce_tasks = reduce_tasks\n",
    "\n",
    "    @staticmethod\n",
    "    def generate_job(num_reduce, max_task_size):\n",
    "        reduce_tasks = [randint(1, max_task_size) for _ in range(num_reduce)]\n",
    "        return Job(reduce_tasks)\n",
    "\n",
    "def large_reduce_first(servers, jobs):\n",
    "    # Sort all reduce tasks from all jobs by descending size\n",
    "    all_reduce_tasks = sorted(\n",
    "        (task for job in jobs for task in job.reduce_tasks), reverse=True\n",
    "    )\n",
    "    # Assign the largest tasks to each server\n",
    "    for server, task in zip(sorted(servers, key=lambda x: x.speed, reverse=True), all_reduce_tasks):\n",
    "        server.schedule_task(task)\n",
    "\n",
    "    # Assign remaining tasks to the fastest available server\n",
    "    for task in all_reduce_tasks[len(servers):]:\n",
    "        fastest_server = min(servers, key=lambda x: x.finish_time)\n",
    "        fastest_server.schedule_task(task)"
   ]
  },
  {
   "cell_type": "code",
   "execution_count": 104,
   "metadata": {},
   "outputs": [],
   "source": [
    "def online_large_reduce_first(servers, jobs):\n",
    "    for job_index, job in enumerate(jobs):\n",
    "        if job_index == 0:  # First job, schedule using LRF\n",
    "            all_reduce_tasks = sorted(job.reduce_tasks, reverse=True)\n",
    "            for server, task in zip(sorted(servers, key=lambda x: x.speed, reverse=True), all_reduce_tasks):\n",
    "                server.schedule_task(task)\n",
    "            for task in all_reduce_tasks[len(servers):]:\n",
    "                fastest_server = min(servers, key=lambda x: x.finish_time)\n",
    "                fastest_server.schedule_task(task)\n",
    "        else:\n",
    "            # Schedule subsequent jobs as they arrive\n",
    "            for task in sorted(job.reduce_tasks, reverse=True):\n",
    "                earliest_server = min(servers, key=lambda x: x.finish_time + task / x.speed)\n",
    "                earliest_server.schedule_task(task)"
   ]
  },
  {
   "cell_type": "code",
   "execution_count": 105,
   "metadata": {},
   "outputs": [],
   "source": [
    "def simulate_olrf():\n",
    "    num_servers = 5\n",
    "    servers = [Server(speed=np.random.randint(5, 15)) for _ in range(num_servers)]\n",
    "    jobs = [Job.generate_job(np.random.randint(5, 10), np.random.randint(50, 100)) for _ in range(5)]\n",
    "\n",
    "    online_large_reduce_first(servers, jobs)\n",
    "    return servers, jobs"
   ]
  },
  {
   "cell_type": "code",
   "execution_count": 106,
   "metadata": {},
   "outputs": [],
   "source": [
    "def plot_schedule(servers, jobs):\n",
    "    fig, ax = plt.subplots(figsize=(10, 6))\n",
    "    colors = plt.cm.viridis(np.linspace(0, 1, len(jobs)))\n",
    "\n",
    "    for i, server in enumerate(servers):\n",
    "        start_times = [task[1] for task in server.tasks]\n",
    "        durations = [task[2] - task[1] for task in server.tasks]\n",
    "        for j, (start, duration) in enumerate(zip(start_times, durations)):\n",
    "            ax.bar(x=i, height=duration, bottom=start, width=1, color=colors[j % len(jobs)], edgecolor='white', label=f'Job {j+1} on Server {i+1}' if j == 0 else \"\")\n",
    "\n",
    "    ax.set_ylabel('Time')\n",
    "    ax.set_xlabel('Server')\n",
    "    ax.set_xticks(range(len(servers)))\n",
    "    ax.set_xticklabels([f\"Server {i+1}\" for i in range(len(servers))])\n",
    "    ax.set_title('Task Scheduling on Servers')\n",
    "    # ax.legend(title=\"Jobs on Servers\")\n",
    "\n",
    "    plt.show()"
   ]
  },
  {
   "cell_type": "code",
   "execution_count": 107,
   "metadata": {},
   "outputs": [
    {
     "data": {
      "image/png": "[encoded data removed]",
      "text/plain": [
       "<Figure size 720x432 with 1 Axes>"
      ]
     },
     "metadata": {
      "needs_background": "light"
     },
     "output_type": "display_data"
    }
   ],
   "source": [
    "servers, jobs = simulate_olrf()\n",
    "plot_schedule(servers=servers, jobs=jobs)"
   ]
  },
  {
   "cell_type": "code",
   "execution_count": 108,
   "metadata": {},
   "outputs": [],
   "source": [
    "def calculate_n(i):\n",
    "    if i == 0:\n",
    "        return 1\n",
    "    else:\n",
    "        return sum(2**(i-j) * calculate_n(j) for j in range(i))\n",
    "\n",
    "def get_bad_input_for_online(max_n):\n",
    "    servers = []\n",
    "    jobs = []\n",
    "\n",
    "    for i in range(max_n + 1):\n",
    "        n = calculate_n(i)\n",
    "        speed = 1 / (2 ** i)\n",
    "        task_size = 1 / (2 ** i)\n",
    "\n",
    "        servers.extend([Server(speed) for _ in range(n)])\n",
    "        jobs.append(Job([task_size] * n))\n",
    "\n",
    "    # Reverse the jobs to simulate the intended arrival order\n",
    "    jobs = list(reversed(jobs))\n",
    "    return servers, jobs"
   ]
  },
  {
   "cell_type": "code",
   "execution_count": 126,
   "metadata": {},
   "outputs": [
    {
     "data": {
      "image/png": "[encoded data removed]",
      "text/plain": [
       "<Figure size 720x432 with 1 Axes>"
      ]
     },
     "metadata": {
      "needs_background": "light"
     },
     "output_type": "display_data"
    }
   ],
   "source": [
    "servers, jobs = get_bad_input_for_online(4)\n",
    "\n",
    "online_large_reduce_first(servers, jobs)\n",
    "\n",
    "plot_schedule(servers=servers, jobs=jobs)"
   ]
  },
  {
   "cell_type": "code",
   "execution_count": 120,
   "metadata": {},
   "outputs": [
    {
     "name": "stdout",
     "output_type": "stream",
     "text": [
      "[1.5, 2.25, 3.125, 3.9375, 4.34375, 4.859375, 5.6796875, 6.30859375]\n"
     ]
    }
   ],
   "source": [
    "def get_makespan(servers):\n",
    "    return max(server.finish_time for server in servers)\n",
    "\n",
    "SIM_MAX = 8\n",
    "makespans = []\n",
    "\n",
    "for i in range(1, SIM_MAX + 1):\n",
    "    servers, jobs = get_bad_input_for_online(i)\n",
    "    online_large_reduce_first(servers, jobs)\n",
    "    makespan = get_makespan(servers)\n",
    "    makespans.append(makespan)\n",
    "\n",
    "print(makespans)"
   ]
  },
  {
   "cell_type": "code",
   "execution_count": 124,
   "metadata": {},
   "outputs": [
    {
     "data": {
      "image/png": "[encoded data removed]",
      "text/plain": [
       "<Figure size 720x432 with 1 Axes>"
      ]
     },
     "metadata": {
      "needs_background": "light"
     },
     "output_type": "display_data"
    }
   ],
   "source": [
    "import matplotlib.pyplot as plt\n",
    "import numpy as np\n",
    "\n",
    "x_values = range(1, SIM_MAX + 1)\n",
    "\n",
    "plt.figure(figsize=(10, 6))\n",
    "plt.plot(x_values, makespans, label='Makespans', marker='o')  # Plot makespans\n",
    "\n",
    "linear_line = x_values\n",
    "plt.plot(x_values, linear_line, label='Linear Line', marker='x')  # Linear plot\n",
    "\n",
    "log_line = [np.log(x) for x in x_values]\n",
    "plt.plot(x_values, log_line, label='Log Line', marker='^')  # Logarithmic plot\n",
    "\n",
    "plt.xlabel('n (num of servers / jobs)')\n",
    "plt.ylabel('Value')\n",
    "plt.title('Comparison of Makespans, Linear, and Logarithmic Growth')\n",
    "plt.legend()\n",
    "plt.grid(True)\n",
    "plt.show()\n"
   ]
  },
  {
   "cell_type": "code",
   "execution_count": 150,
   "metadata": {},
   "outputs": [
    {
     "name": "stdout",
     "output_type": "stream",
     "text": [
      "[1.5, 2.25, 3.125, 3.9375, 4.34375, 4.859375, 5.6796875, 6.30859375]\n"
     ]
    }
   ],
   "source": [
    "def get_makespan(servers):\n",
    "    return max(server.finish_time for server in servers)\n",
    "\n",
    "SIM_MAX = 8\n",
    "makespans = []\n",
    "\n",
    "for i in range(1, SIM_MAX + 1):\n",
    "    servers, jobs = get_bad_input_for_online(i)\n",
    "    online_large_reduce_first(servers, jobs)\n",
    "    makespan = get_makespan(servers)\n",
    "    makespans.append(makespan)\n",
    "\n",
    "print(makespans)"
   ]
  },
  {
   "cell_type": "code",
   "execution_count": 151,
   "metadata": {},
   "outputs": [
    {
     "data": {
      "text/plain": [
       "43691"
      ]
     },
     "execution_count": 151,
     "metadata": {},
     "output_type": "execute_result"
    }
   ],
   "source": [
    "len(servers)"
   ]
  },
  {
   "cell_type": "code",
   "execution_count": 131,
   "metadata": {},
   "outputs": [
    {
     "data": {
      "image/png": "[encoded data removed]",
      "text/plain": [
       "<Figure size 720x432 with 1 Axes>"
      ]
     },
     "metadata": {
      "needs_background": "light"
     },
     "output_type": "display_data"
    }
   ],
   "source": [
    "import matplotlib.pyplot as plt\n",
    "import numpy as np\n",
    "\n",
    "x_values = range(1, SIM_MAX + 1)\n",
    "\n",
    "plt.figure(figsize=(10, 6))\n",
    "plt.plot(x_values, makespans, label='Makespans', marker='o')  # Plot makespans\n",
    "\n",
    "linear_line = x_values\n",
    "plt.plot(x_values, linear_line, label='Linear Line', marker='x')  # Linear plot\n",
    "\n",
    "log_line = [np.log(x) for x in x_values]\n",
    "plt.plot(x_values, log_line, label='Log Line', marker='^')  # Logarithmic plot\n",
    "\n",
    "plt.xlabel('n (num of servers / jobs)')\n",
    "plt.ylabel('Value')\n",
    "plt.title('Comparison of Makespans, Linear, and Logarithmic Growth')\n",
    "plt.legend()\n",
    "plt.grid(True)\n",
    "plt.show()\n"
   ]
  },
  {
   "cell_type": "code",
   "execution_count": 142,
   "metadata": {},
   "outputs": [],
   "source": [
    "def get_makespan(servers):\n",
    "    return max(server.finish_time for server in servers)\n",
    "\n",
    "SIM_MAX = 5\n",
    "makespans = []\n",
    "\n",
    "for i in range(1, SIM_MAX + 1):\n",
    "    servers, jobs = get_bad_input_for_online(i)\n",
    "    servers= servers[:40]\n",
    "    jobs = jobs[:10]\n",
    "    online_large_reduce_first(servers, jobs)\n",
    "    makespan = get_makespan(servers)\n",
    "    makespans.append(makespan)"
   ]
  },
  {
   "cell_type": "code",
   "execution_count": 143,
   "metadata": {},
   "outputs": [
    {
     "data": {
      "image/png": "[encoded data removed]",
      "text/plain": [
       "<Figure size 720x432 with 1 Axes>"
      ]
     },
     "metadata": {
      "needs_background": "light"
     },
     "output_type": "display_data"
    }
   ],
   "source": [
    "\n",
    "plot_schedule(servers=servers, jobs=jobs)"
   ]
  },
  {
   "cell_type": "code",
   "execution_count": 110,
   "metadata": {},
   "outputs": [
    {
     "name": "stdout",
     "output_type": "stream",
     "text": [
      "128\n",
      "32\n",
      "8\n",
      "2\n",
      "1\n"
     ]
    },
    {
     "data": {
      "text/plain": [
       "171"
      ]
     },
     "execution_count": 110,
     "metadata": {},
     "output_type": "execute_result"
    }
   ],
   "source": [
    "total_len = 0\n",
    "for i in range(len(jobs)):\n",
    "    total_len+=len(jobs[i].reduce_tasks)\n",
    "    print(len(jobs[i].reduce_tasks))\n",
    "total_len"
   ]
  },
  {
   "cell_type": "code",
   "execution_count": 111,
   "metadata": {},
   "outputs": [
    {
     "data": {
      "text/plain": [
       "171"
      ]
     },
     "execution_count": 111,
     "metadata": {},
     "output_type": "execute_result"
    }
   ],
   "source": [
    "len(servers)"
   ]
  },
  {
   "cell_type": "code",
   "execution_count": 112,
   "metadata": {},
   "outputs": [
    {
     "name": "stdout",
     "output_type": "stream",
     "text": [
      "1.0\n",
      "0.5\n",
      "0.5\n",
      "0.25\n",
      "0.25\n",
      "0.25\n",
      "0.25\n",
      "0.25\n",
      "0.25\n",
      "0.25\n",
      "0.25\n",
      "0.125\n",
      "0.125\n",
      "0.125\n",
      "0.125\n",
      "0.125\n",
      "0.125\n",
      "0.125\n",
      "0.125\n",
      "0.125\n",
      "0.125\n",
      "0.125\n",
      "0.125\n",
      "0.125\n",
      "0.125\n",
      "0.125\n",
      "0.125\n",
      "0.125\n",
      "0.125\n",
      "0.125\n",
      "0.125\n",
      "0.125\n",
      "0.125\n",
      "0.125\n",
      "0.125\n",
      "0.125\n",
      "0.125\n",
      "0.125\n",
      "0.125\n",
      "0.125\n",
      "0.125\n",
      "0.125\n",
      "0.125\n",
      "0.0625\n",
      "0.0625\n",
      "0.0625\n",
      "0.0625\n",
      "0.0625\n",
      "0.0625\n",
      "0.0625\n",
      "0.0625\n",
      "0.0625\n",
      "0.0625\n",
      "0.0625\n",
      "0.0625\n",
      "0.0625\n",
      "0.0625\n",
      "0.0625\n",
      "0.0625\n",
      "0.0625\n",
      "0.0625\n",
      "0.0625\n",
      "0.0625\n",
      "0.0625\n",
      "0.0625\n",
      "0.0625\n",
      "0.0625\n",
      "0.0625\n",
      "0.0625\n",
      "0.0625\n",
      "0.0625\n",
      "0.0625\n",
      "0.0625\n",
      "0.0625\n",
      "0.0625\n",
      "0.0625\n",
      "0.0625\n",
      "0.0625\n",
      "0.0625\n",
      "0.0625\n",
      "0.0625\n",
      "0.0625\n",
      "0.0625\n",
      "0.0625\n",
      "0.0625\n",
      "0.0625\n",
      "0.0625\n",
      "0.0625\n",
      "0.0625\n",
      "0.0625\n",
      "0.0625\n",
      "0.0625\n",
      "0.0625\n",
      "0.0625\n",
      "0.0625\n",
      "0.0625\n",
      "0.0625\n",
      "0.0625\n",
      "0.0625\n",
      "0.0625\n",
      "0.0625\n",
      "0.0625\n",
      "0.0625\n",
      "0.0625\n",
      "0.0625\n",
      "0.0625\n",
      "0.0625\n",
      "0.0625\n",
      "0.0625\n",
      "0.0625\n",
      "0.0625\n",
      "0.0625\n",
      "0.0625\n",
      "0.0625\n",
      "0.0625\n",
      "0.0625\n",
      "0.0625\n",
      "0.0625\n",
      "0.0625\n",
      "0.0625\n",
      "0.0625\n",
      "0.0625\n",
      "0.0625\n",
      "0.0625\n",
      "0.0625\n",
      "0.0625\n",
      "0.0625\n",
      "0.0625\n",
      "0.0625\n",
      "0.0625\n",
      "0.0625\n",
      "0.0625\n",
      "0.0625\n",
      "0.0625\n",
      "0.0625\n",
      "0.0625\n",
      "0.0625\n",
      "0.0625\n",
      "0.0625\n",
      "0.0625\n",
      "0.0625\n",
      "0.0625\n",
      "0.0625\n",
      "0.0625\n",
      "0.0625\n",
      "0.0625\n",
      "0.0625\n",
      "0.0625\n",
      "0.0625\n",
      "0.0625\n",
      "0.0625\n",
      "0.0625\n",
      "0.0625\n",
      "0.0625\n",
      "0.0625\n",
      "0.0625\n",
      "0.0625\n",
      "0.0625\n",
      "0.0625\n",
      "0.0625\n",
      "0.0625\n",
      "0.0625\n",
      "0.0625\n",
      "0.0625\n",
      "0.0625\n",
      "0.0625\n",
      "0.0625\n",
      "0.0625\n",
      "0.0625\n",
      "0.0625\n",
      "0.0625\n",
      "[0.0625, 0.0625, 0.0625, 0.0625, 0.0625, 0.0625, 0.0625, 0.0625, 0.0625, 0.0625, 0.0625, 0.0625, 0.0625, 0.0625, 0.0625, 0.0625, 0.0625, 0.0625, 0.0625, 0.0625, 0.0625, 0.0625, 0.0625, 0.0625, 0.0625, 0.0625, 0.0625, 0.0625, 0.0625, 0.0625, 0.0625, 0.0625, 0.0625, 0.0625, 0.0625, 0.0625, 0.0625, 0.0625, 0.0625, 0.0625, 0.0625, 0.0625, 0.0625, 0.0625, 0.0625, 0.0625, 0.0625, 0.0625, 0.0625, 0.0625, 0.0625, 0.0625, 0.0625, 0.0625, 0.0625, 0.0625, 0.0625, 0.0625, 0.0625, 0.0625, 0.0625, 0.0625, 0.0625, 0.0625, 0.0625, 0.0625, 0.0625, 0.0625, 0.0625, 0.0625, 0.0625, 0.0625, 0.0625, 0.0625, 0.0625, 0.0625, 0.0625, 0.0625, 0.0625, 0.0625, 0.0625, 0.0625, 0.0625, 0.0625, 0.0625, 0.0625, 0.0625, 0.0625, 0.0625, 0.0625, 0.0625, 0.0625, 0.0625, 0.0625, 0.0625, 0.0625, 0.0625, 0.0625, 0.0625, 0.0625, 0.0625, 0.0625, 0.0625, 0.0625, 0.0625, 0.0625, 0.0625, 0.0625, 0.0625, 0.0625, 0.0625, 0.0625, 0.0625, 0.0625, 0.0625, 0.0625, 0.0625, 0.0625, 0.0625, 0.0625, 0.0625, 0.0625, 0.0625, 0.0625, 0.0625, 0.0625, 0.0625, 0.0625]\n",
      "[0.125, 0.125, 0.125, 0.125, 0.125, 0.125, 0.125, 0.125, 0.125, 0.125, 0.125, 0.125, 0.125, 0.125, 0.125, 0.125, 0.125, 0.125, 0.125, 0.125, 0.125, 0.125, 0.125, 0.125, 0.125, 0.125, 0.125, 0.125, 0.125, 0.125, 0.125, 0.125]\n",
      "[0.25, 0.25, 0.25, 0.25, 0.25, 0.25, 0.25, 0.25]\n",
      "[0.5, 0.5]\n",
      "[1.0]\n"
     ]
    }
   ],
   "source": [
    "for server in servers:\n",
    "    print(server.speed)\n",
    "\n",
    "for job in jobs:\n",
    "    print(job.reduce_tasks)"
   ]
  },
  {
   "cell_type": "code",
   "execution_count": null,
   "metadata": {},
   "outputs": [],
   "source": []
  }
 ],
 "metadata": {
  "kernelspec": {
   "display_name": "base",
   "language": "python",
   "name": "python3"
  },
  "language_info": {
   "codemirror_mode": {
    "name": "ipython",
    "version": 3
   },
   "file_extension": ".py",
   "mimetype": "text/x-python",
   "name": "python",
   "nbconvert_exporter": "python",
   "pygments_lexer": "ipython3",
   "version": "3.9.7"
  }
 },
 "nbformat": 4,
 "nbformat_minor": 2
}
